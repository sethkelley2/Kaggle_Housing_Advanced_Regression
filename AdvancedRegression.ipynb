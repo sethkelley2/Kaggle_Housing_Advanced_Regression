{
 "cells": [
  {
   "cell_type": "code",
   "execution_count": 1752,
   "id": "f16e2ba6-07fc-487c-9568-c9f42a574da1",
   "metadata": {},
   "outputs": [],
   "source": [
    "import torch\n",
    "import torch.nn as nn\n",
    "import numpy as np \n",
    "import pandas as pd \n",
    "import seaborn as sns\n",
    "import matplotlib.pyplot as plt \n",
    "import pandas_datareader as pdr\n",
    "import os\n",
    "from sklearn.model_selection import train_test_split\n",
    "from sklearn.preprocessing import OneHotEncoder,MinMaxScaler"
   ]
  },
  {
   "cell_type": "code",
   "execution_count": 1753,
   "id": "f55e46bd-f2d9-4d32-a5fe-0288914cdf3e",
   "metadata": {},
   "outputs": [],
   "source": [
    "train = pd.read_csv(\"train.csv\")\n",
    "test = pd.read_csv(\"test.csv\")"
   ]
  },
  {
   "cell_type": "code",
   "execution_count": 1754,
   "id": "49d73236-c58e-455f-95c7-6a7de3388bcf",
   "metadata": {},
   "outputs": [],
   "source": [
    "initial_labels = train.columns"
   ]
  },
  {
   "cell_type": "markdown",
   "id": "0f30798a-207b-45ee-a657-d5e89f697112",
   "metadata": {},
   "source": [
    "## Lets take care of the categorical variables"
   ]
  },
  {
   "cell_type": "code",
   "execution_count": 1755,
   "id": "a458c634-de42-4db4-9304-53c02fb6b648",
   "metadata": {},
   "outputs": [],
   "source": [
    "Categorical = ['MasVnrType','MSSubClass','MSZoning','Street','Alley','LotShape','LandContour','Utilities','LotConfig','LandSlope','Neighborhood','Condition1','Condition2','BldgType','HouseStyle','RoofStyle','RoofMatl','Exterior1st','Exterior2nd','MasVnrArea','ExterQual','ExterCond','Foundation','BsmtQual','BsmtCond','BsmtExposure','BsmtFinType1','BsmtFinType2','Heating','HeatingQC','CentralAir','Electrical','KitchenQual','Functional','FireplaceQu','GarageType','GarageFinish','GarageQual','GarageCond','PavedDrive','PoolQC','Fence','MiscFeature','SaleType','SaleCondition']\n"
   ]
  },
  {
   "cell_type": "code",
   "execution_count": 1756,
   "id": "62916aae-def9-420a-860b-55b789cffa16",
   "metadata": {},
   "outputs": [],
   "source": [
    "for cat in Categorical:\n",
    "    train[cat] = train[cat].map(str)\n",
    "    test[cat] = test[cat].map(str)"
   ]
  },
  {
   "cell_type": "code",
   "execution_count": 1757,
   "id": "93cc4a25-878b-476f-b3d8-53ef91f76706",
   "metadata": {},
   "outputs": [
    {
     "name": "stdout",
     "output_type": "stream",
     "text": [
      "index reset\n"
     ]
    }
   ],
   "source": [
    "train = train.set_index('Id')\n",
    "test = test.set_index('Id')\n",
    "print(\"index reset\")"
   ]
  },
  {
   "cell_type": "code",
   "execution_count": 1758,
   "id": "ae403d1b-239d-4880-948a-8e206bc38ff3",
   "metadata": {},
   "outputs": [],
   "source": [
    "ohe = OneHotEncoder(handle_unknown = 'ignore')\n",
    "train_ohe = ohe.fit_transform(train[Categorical]).toarray()\n",
    "test_ohe = ohe.transform(test[Categorical]).toarray()"
   ]
  },
  {
   "cell_type": "code",
   "execution_count": 1759,
   "id": "954d5385-9843-4867-822e-2fbf1008ef14",
   "metadata": {},
   "outputs": [],
   "source": [
    "feature_labels = ohe.categories_"
   ]
  },
  {
   "cell_type": "code",
   "execution_count": 1760,
   "id": "c6bcf9ad-1141-4092-9b23-2ec5d5d226c8",
   "metadata": {},
   "outputs": [],
   "source": [
    "labels = []\n",
    "for names in feature_labels:\n",
    "    labels += names.tolist()\n"
   ]
  },
  {
   "cell_type": "code",
   "execution_count": 1761,
   "id": "0b271d6a-e260-4dc1-9f98-eea9bb12b925",
   "metadata": {},
   "outputs": [],
   "source": [
    "train_cat_index = train.index\n",
    "test_cat_index = test.index"
   ]
  },
  {
   "cell_type": "code",
   "execution_count": 1762,
   "id": "56d6ea79-5929-4e42-b7ec-2b4cbe0e1000",
   "metadata": {},
   "outputs": [],
   "source": [
    "train_cat = pd.DataFrame(train_ohe,columns=labels)\n",
    "test_cat = pd.DataFrame(test_ohe,columns=labels)"
   ]
  },
  {
   "cell_type": "code",
   "execution_count": 1763,
   "id": "6b0fce40-5f28-41bd-a383-3b7bda11ec01",
   "metadata": {},
   "outputs": [],
   "source": [
    "train_cat['Id'] = train_cat_index\n",
    "train_cat = train_cat.set_index(['Id'])\n",
    "test_cat['Id'] = test_cat_index\n",
    "test_cat = test_cat.set_index(['Id'])"
   ]
  },
  {
   "cell_type": "code",
   "execution_count": 1764,
   "id": "9bdaf695-6956-404a-b515-5600548c490c",
   "metadata": {},
   "outputs": [],
   "source": [
    "#recombine with numerical data now\n",
    "numerical = []\n",
    "\n",
    "for name in initial_labels:\n",
    "    if name not in Categorical and name != 'SalePrice' and name !='Id':\n",
    "        numerical.append(name)\n",
    "\n",
    "train_num = train[numerical]\n",
    "test_num = test[numerical]"
   ]
  },
  {
   "cell_type": "code",
   "execution_count": 1765,
   "id": "bc8d871c-730f-42ec-a075-d3fcbdd8ad37",
   "metadata": {},
   "outputs": [],
   "source": [
    "#grab targets\n",
    "train_target = train['SalePrice']\n",
    "traing_target = train_target.fillna(train_target.mean())"
   ]
  },
  {
   "cell_type": "code",
   "execution_count": 1766,
   "id": "e479e19d-570a-4cd4-a745-0f88a0c7ace4",
   "metadata": {},
   "outputs": [],
   "source": [
    "#concatenate the numerical and categorical features\n",
    "train_features= train_num.join(train_cat)\n",
    "test_features= test_num.join(test_cat)"
   ]
  },
  {
   "cell_type": "code",
   "execution_count": 1767,
   "id": "68c25e7d-088c-4d9d-be98-3d40b00faa54",
   "metadata": {},
   "outputs": [],
   "source": [
    "train_features = train_features.apply(lambda x: x.fillna(x.mean()),axis=0)\n",
    "test_features = test_features.apply(lambda x: x.fillna(x.mean()),axis=0)"
   ]
  },
  {
   "cell_type": "markdown",
   "id": "bc0b1398-1186-40a0-b81d-3cbc6aca7f79",
   "metadata": {},
   "source": [
    "## Let's scale our values to achieve numerical stability"
   ]
  },
  {
   "cell_type": "code",
   "execution_count": 1768,
   "id": "a495dd40-1567-4714-8078-cc80f662143e",
   "metadata": {},
   "outputs": [],
   "source": [
    "mms = MinMaxScaler()\n",
    "\n",
    "train_features = mms.fit_transform(train_features)\n",
    "test_features = mms.transform(test_features)"
   ]
  },
  {
   "cell_type": "code",
   "execution_count": 1769,
   "id": "43d8513d-345a-494c-8611-c49689417183",
   "metadata": {},
   "outputs": [
    {
     "data": {
      "text/plain": [
       "((1460, 645), (1459, 645))"
      ]
     },
     "execution_count": 1769,
     "metadata": {},
     "output_type": "execute_result"
    }
   ],
   "source": [
    "train_features.shape,test_features.shape"
   ]
  },
  {
   "cell_type": "code",
   "execution_count": 1770,
   "id": "cf2822c6-5644-45e8-978e-da4f93e75b81",
   "metadata": {},
   "outputs": [],
   "source": [
    "mms_targets = MinMaxScaler()\n",
    "train_targets = mms_targets.fit_transform(pd.DataFrame(train_target))"
   ]
  },
  {
   "cell_type": "markdown",
   "id": "a21fe342-96c2-41cd-82b6-16fc55afa44e",
   "metadata": {},
   "source": [
    "## I want a validation set too..."
   ]
  },
  {
   "cell_type": "code",
   "execution_count": 1771,
   "id": "7eb94176-6041-4dba-978e-c1049ee21aec",
   "metadata": {},
   "outputs": [],
   "source": [
    "x_train,x_val,y_train,y_val = train_test_split(train_features,train_targets,test_size = .1)"
   ]
  },
  {
   "cell_type": "markdown",
   "id": "dee4a4ae-c002-47d7-94e7-2771b1991c0c",
   "metadata": {},
   "source": [
    "# Time to build a model"
   ]
  },
  {
   "cell_type": "code",
   "execution_count": 1772,
   "id": "be490bf3-0616-4df5-83fc-086bf2a612d3",
   "metadata": {},
   "outputs": [],
   "source": [
    "x_train = torch.tensor(x_train,dtype=torch.float32)\n",
    "x_val = torch.tensor(x_val,dtype=torch.float32)\n",
    "y_train = torch.tensor(y_train,dtype = torch.float32)\n",
    "y_val = torch.tensor(y_val,dtype=torch.float32)"
   ]
  },
  {
   "cell_type": "code",
   "execution_count": 1773,
   "id": "f2e8eaf4-cee8-490e-a2e1-23f955ce25aa",
   "metadata": {
    "tags": []
   },
   "outputs": [],
   "source": [
    "inputSize = x_train.shape[1]\n",
    "bottleNeck = 32\n",
    "bottleNeck1 = bottleNeck\n",
    "bottleNeck2 = 16\n",
    "bottleNeck3 = 8\n",
    "outputSize = 1\n",
    "learning_rate = 0.01\n",
    "epochs = 50"
   ]
  },
  {
   "cell_type": "code",
   "execution_count": 1774,
   "id": "2ed9621f-f382-453c-be28-6d72d298d5f1",
   "metadata": {},
   "outputs": [],
   "source": [
    "cost = nn.MSELoss()"
   ]
  },
  {
   "cell_type": "code",
   "execution_count": 1775,
   "id": "c5d63bba-1de1-4fe0-b2ef-b69d64d3da77",
   "metadata": {
    "tags": []
   },
   "outputs": [],
   "source": [
    "class ThreeLayerFFNN(nn.Module):\n",
    "    \n",
    "    def __init__(self,inputSize,bottleNeck1,bottleNeck2,bottleNeck3,outputSize):\n",
    "        super().__init__()\n",
    "        self.inputSize = inputSize\n",
    "        self.bottleNeck1 = bottleNeck1\n",
    "        self.bottleNeck2 = bottleNeck2\n",
    "        self.bottleNeck3 = bottleNeck3\n",
    "        self.outputSize = outputSize\n",
    "        self.ReLU = nn.ReLU()\n",
    "        self.net = nn.Sequential(nn.Linear(self.inputSize,self.bottleNeck1),self.ReLU,nn.Linear(self.bottleNeck1,self.bottleNeck2),self.ReLU,nn.Linear(self.bottleNeck2,self.bottleNeck3),self.ReLU,nn.Linear(self.bottleNeck3,self.outputSize)) \n",
    "        \n",
    "    def forward(self,x):\n",
    "        return(self.net(x))"
   ]
  },
  {
   "cell_type": "code",
   "execution_count": 1776,
   "id": "59d87198-e90a-493d-8199-b23b8a2b28a9",
   "metadata": {},
   "outputs": [
    {
     "data": {
      "image/png": "[encoded data removed]",
      "text/plain": [
       "<Figure size 432x288 with 1 Axes>"
      ]
     },
     "metadata": {
      "needs_background": "light"
     },
     "output_type": "display_data"
    }
   ],
   "source": [
    "net = ThreeLayerFFNN(inputSize,bottleNeck1,bottleNeck2,bottleNeck3,outputSize)\n",
    "optim = torch.optim.Adam(net.parameters(),lr=learning_rate)\n",
    "\n",
    "loss_list = []\n",
    "val_loss_list = []\n",
    "\n",
    "for epoch in range(epochs):\n",
    "    \n",
    "    optim.zero_grad()\n",
    "    y_hat = net(x_train)\n",
    "    loss = cost(y_hat,y_train)\n",
    "    loss.backward()\n",
    "    optim.step()\n",
    "    loss_list.append(loss.item())\n",
    "    \n",
    "    \n",
    "    loss2 = cost(net(x_val),y_val)\n",
    "    val_loss_list.append(loss2.item())\n",
    "    \n",
    "import seaborn as sns\n",
    "import matplotlib.pyplot as plt\n",
    "import matplotlib\n",
    "\n",
    "hist = pd.DataFrame(loss_list)#\n",
    "hist.rename(columns={0:\"Training Error\"},inplace=True)\n",
    "hist2 = pd.DataFrame(val_loss_list)\n",
    "hist2.rename(columns={0:\"Validation Error\"},inplace = True)\n",
    "\n",
    "fig = sns.lineplot(data = hist)\n",
    "fig = sns.lineplot(data = hist2,palette=['r'])\n",
    "fig.set(xlabel=\"Number of Epochs\",ylabel=\"Average Mean-Square Error\",title = \"Error vs. Num Epochs\")\n",
    "fig.set_yscale('log')"
   ]
  },
  {
   "cell_type": "code",
   "execution_count": 1777,
   "id": "89e67edf-1901-4d78-a9cd-3fad4a43406c",
   "metadata": {},
   "outputs": [
    {
     "data": {
      "text/plain": [
       "0.003247306915000081"
      ]
     },
     "execution_count": 1777,
     "metadata": {},
     "output_type": "execute_result"
    }
   ],
   "source": [
    "val_loss_list[-1]"
   ]
  },
  {
   "cell_type": "code",
   "execution_count": 1778,
   "id": "ec9badc0-2ce4-4d78-ad83-c4085c79da2d",
   "metadata": {},
   "outputs": [],
   "source": [
    "x_test = torch.tensor(test_features,dtype=torch.float32)"
   ]
  },
  {
   "cell_type": "code",
   "execution_count": 1779,
   "id": "e2426b2f-dda5-47ba-90b6-41efcb200685",
   "metadata": {},
   "outputs": [],
   "source": [
    "y_hat_test = mms_targets.inverse_transform(net(x_test).detach().numpy())"
   ]
  },
  {
   "cell_type": "code",
   "execution_count": 1780,
   "id": "0f58e492-9f5e-424d-8c48-703bf2ee725d",
   "metadata": {},
   "outputs": [],
   "source": [
    "output = pd.DataFrame(y_hat_test,columns=['SalePrice'])\n",
    "output['Id'] = test.index\n",
    "output.set_index('Id',inplace=True)"
   ]
  },
  {
   "cell_type": "code",
   "execution_count": 1781,
   "id": "4917d14c-f30e-43d7-b60d-e81d34bf0cb2",
   "metadata": {},
   "outputs": [],
   "source": [
    "output.to_csv('Estimate.csv')"
   ]
  },
  {
   "cell_type": "code",
   "execution_count": null,
   "id": "0ee94364-fcf6-43f7-9a12-33898d6ac5d0",
   "metadata": {},
   "outputs": [],
   "source": []
  },
  {
   "cell_type": "code",
   "execution_count": null,
   "id": "61c05209-9090-485b-b5b5-c5ca8d22f09d",
   "metadata": {},
   "outputs": [],
   "source": []
  },
  {
   "cell_type": "code",
   "execution_count": null,
   "id": "7140eab6-7f12-4c95-b4f1-cee9108f6921",
   "metadata": {},
   "outputs": [],
   "source": []
  }
 ],
 "metadata": {
  "kernelspec": {
   "display_name": "Python 3 (ipykernel)",
   "language": "python",
   "name": "python3"
  },
  "language_info": {
   "codemirror_mode": {
    "name": "ipython",
    "version": 3
   },
   "file_extension": ".py",
   "mimetype": "text/x-python",
   "name": "python",
   "nbconvert_exporter": "python",
   "pygments_lexer": "ipython3",
   "version": "3.9.7"
  }
 },
 "nbformat": 4,
 "nbformat_minor": 5
}
